{
 "cells": [
  {
   "cell_type": "code",
   "execution_count": 1,
   "metadata": {},
   "outputs": [
    {
     "ename": "SyntaxError",
     "evalue": "invalid syntax (<ipython-input-1-2b2b3830671e>, line 2)",
     "output_type": "error",
     "traceback": [
      "\u001b[0;36m  File \u001b[0;32m\"<ipython-input-1-2b2b3830671e>\"\u001b[0;36m, line \u001b[0;32m2\u001b[0m\n\u001b[0;31m    hello world\u001b[0m\n\u001b[0m              ^\u001b[0m\n\u001b[0;31mSyntaxError\u001b[0m\u001b[0;31m:\u001b[0m invalid syntax\n"
     ]
    }
   ],
   "source": [
    "txt\n",
    "hello world\n",
    "i love ipython\n",
    "jupyter notebook is so wonderful"
   ]
  },
  {
   "cell_type": "code",
   "execution_count": 2,
   "metadata": {},
   "outputs": [
    {
     "name": "stdout",
     "output_type": "stream",
     "text": [
      "Writing abc.txt\n"
     ]
    }
   ],
   "source": [
    "%%writefile abc.txt\n",
    "hello world\n",
    "i love ipython\n",
    "jupyter notebook is so wonderful"
   ]
  },
  {
   "cell_type": "code",
   "execution_count": 3,
   "metadata": {},
   "outputs": [
    {
     "name": "stdout",
     "output_type": "stream",
     "text": [
      "hello world\n",
      "i love ipython\n",
      "jupyter notebook is so wonderful\n",
      "\n"
     ]
    }
   ],
   "source": [
    "with open('abc.txt', 'r') as f:\n",
    "    print(f.read())"
   ]
  },
  {
   "cell_type": "code",
   "execution_count": 4,
   "metadata": {},
   "outputs": [
    {
     "name": "stdout",
     "output_type": "stream",
     "text": [
      "total 16\n",
      "-rw-r--r--@ 1 mobile  mobile  1941 Aug 23 22:09 Untitled.ipynb\n",
      "-rw-r--r--  1 mobile  mobile    60 Aug 23 22:08 abc.txt\n",
      "drwxr-xr-x  5 mobile  mobile   160 Aug 23 22:07 \u001b[1m\u001b[34mwelcome\u001b[39;49m\u001b[0m/\n"
     ]
    }
   ],
   "source": [
    "ls -l"
   ]
  },
  {
   "cell_type": "code",
   "execution_count": null,
   "metadata": {},
   "outputs": [],
   "source": []
  }
 ],
 "metadata": {
  "kernelspec": {
   "display_name": "Python 3",
   "language": "python",
   "name": "python3"
  },
  "language_info": {
   "codemirror_mode": {
    "name": "ipython",
    "version": 3
   },
   "file_extension": ".py",
   "mimetype": "text/x-python",
   "name": "python",
   "nbconvert_exporter": "python",
   "pygments_lexer": "ipython3",
   "version": "3.7.1"
  }
 },
 "nbformat": 4,
 "nbformat_minor": 2
}
